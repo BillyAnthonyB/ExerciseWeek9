{
 "cells": [
  {
   "cell_type": "markdown",
   "id": "0414ae68",
   "metadata": {},
   "source": [
    "# SUMMARY ASSOCIATION RULES"
   ]
  },
  {
   "cell_type": "raw",
   "id": "9a6b29a2",
   "metadata": {},
   "source": [
    "Nama : Billy Anthony Bingtoyo\n",
    "NIM  : 0706022010014"
   ]
  },
  {
   "cell_type": "raw",
   "id": "265d6319",
   "metadata": {},
   "source": [
    "Association rules merupakan suatu aturan yang telah didefinisikan oleh computer scientist yang bernama Rakesh Agrawal, Tomasz Imieliński, dan Arun Swami. Mereka mendefinisikan asscociation rules pada tahun 1990 dengan mengembangkan cara berbasis algoritma untuk menemukan hubungan antara item menggunakan sistem point-of-sale (POS). Mereka mengaplikasikan algoritma tersebut ke dalam supermarket dan mereka menemukan hubungan antara pembelian bermacam-macam item dinamakan association rules. Kemudian mereka menggunakan informasi tersebut untuk melakukan prediksi kemungkinan produk yang berbeda dibeli secara bersama. Penemuan ini sangat berguna bagi para pemilik toko yang menjual barangnya secara eceran. Hal ini dikarenakan association rules menawarkan cara untuk memahami perilaku pelanggan sehingga association rules sering kali disebut dengan market basket analysis. Seiring dengan kemajuan dalam data science, AI, dan machine learning telah terjadi penggunaan association rules secara nyata. Association rules dapat digunakan dalam kasus penggunaan yang lebih luas. Lebih banyak data yang dihasilkan maka lebih banyak aplikasi untuk association rules. AI dan machine learning memungkinkan kumpulan data yang lebih besar dan lebih kompleks untuk dianalisis dalam association rules mining (Lutkevich Ben, 2020).\n",
    "\n",
    "Association rule mining merupakan suatu teknik yang digunakan untuk mengidentifikasi hubungan yang mendasari antara item yang berbeda. Contohnya yaitu dalam supermarket dimana pelanggan dapat membeli berbagai macam barang. Biasanya dalam supermarket terdapat suatu pola dalam apa yang dibeli oleh pelanggan. Misalnya yaitu ibu dengan bayi membeli produk bayi seperti susu dab popok, remaja wanita membeli alat-alat makeup dan lain sebagainya. Pola seperti inilah yang nantinya akan menghasilkan keuntungan yang besar apabila berhasil diidentifikasi. Proses identifikasi antara produk inilah yang disebut dengan association rule mining (Malik Usman, 2022).\n",
    "\n",
    "Cara kerja association rule mining dapat dikatakan sama dengan konsep if and else statement seperti, jika A maka yang terjadi adalah B. Dalam hal ini, statement if dikatakan sebagai antecendent dan statement then dikatakan sebagai Consequent. Dari jenis hubungan ini, kita dapat menemukan beberapa asosiasi atau hubungan antara dua item yang dikenal sebagai single cardinality. Ini semua merupakan tentang membuat suatu aturan. Jika jumlah item meningkat maka cardinalitynya juga akan meningkat pula. Jadi untuk mengukur keterkaitan ribuan data maka diberikan metric seperti berikut(Java Point).\n",
    "1. Support\n",
    "   Yaitu seberapa sering suatu item muncul dalam dataset\n",
    "   Supp(X) = freq(X)/T\n",
    "2. Confidence\n",
    "   Menunjukkan seberapa sering aturan tersebut ditemukan benar.\n",
    "   Confidence = Freq(X,Y)/Freq(X)\n",
    "3. Lift\n",
    "   Aturan yang paling kuat yang didefinisikan dengan rumus berikut.\n",
    "   Lift = Supp(X,Y)/Supp(X)*Supp(Y)\n",
    "   Jika lift = 1 maka probabilitas terjadinya antecendent dan consequent tidak tergantung satu sama lain\n",
    "   Jika lift > 1 maka hal ini menentukan sejauh mana dua itemset bergantung satu dengan yang lain\n",
    "   Jika lift < 1 maka hal ini memberitahu bahwa satu itemset adalah pengganti item yang lain, yang berarti satu item memiliki efek negatif pada item yang lain.\n",
    "   \n",
    "Menurut Geeks for Geeks, dalam Association rules mining terdapat 4 tipe association rules yang dijelaskan sebagai berikut.\n",
    "1. Multi-relational association rules\n",
    "   Multi-Relational Association Rules (MRAR) adalah aturan kelas baru dari association rules, berbeda dengan yang asli, sederhana, dan bahkan multi relasional. Setiap elemen terdiri dari satu entitas tetapi banyak hubungan. Hubungan ini yang mewakili hubungan tidak langsung antar entitas.\n",
    "2. Generalized Association rule\n",
    "   Alat yang ampuh untuk mendapatkan gambaran tentang suatu pola menarik yang tersembunyi\n",
    "3. Interval Information Association Rules\n",
    "4. Quantitative Association rules\n",
    "   Tipe aturan kuantitatif dari association rules. Aturan ini tidak seperti aturan asosiasi pada umumnya. Dimana sisi kiri dan kanan aturan harus berupa atribut kategori atau setidaknya satu atribut antara kiri dan kanan yang harus berisi atribut numerik.\n",
    "   \n",
    "Seperti yang telah diketahui bahwa association rules memang membantu manusia untuk mengidentifikasi suatu pola. Menurut Technopedia, penerapan association rules terbagi menjadi 3 yaitu sebagai berikut.\n",
    "1. Basket data analysis\n",
    "   Menganalsis asosiasi barang yang dibeli dalam satu keranjang atau satu pembelian\n",
    "2. Cross Marketing\n",
    "   Bekerja sama dengan bisnis lain yang melengkapi bisnis sendiri (bukan kompetitor)\n",
    "3. Catalog Design\n",
    "   Pemilihan item dalam sebuah katalog bisnis dibuat agar saling melengkapi antara satu item dengan yang lain sehingga barang-barang tersebut saling melengkapi atau sangat berhubungan\n",
    "   \n",
    "Association rule mining tentunya memiliki algoritma-algoritma yang digunakan untuk menghasilkan association rules. Algoritma dalam Association rule mining ini terbagi menjadi 3 bagian seperti berikut (Jena Manisha, 2022)\n",
    "- Apriori Algorithm\n",
    "  Memberikan karakteristik item individu yang paling sering muncul dalam data dan meningkatkannya ke kumpulan item yang lebih besar.\n",
    "- Eclat Algorithm\n",
    "  Eclat menunjukkan ekivalensi dari transformasi kelas. Intersection dalam hal ini didukung oleh pencarian depth first\n",
    "- FP-growth Algorithm\n",
    "  Algoritma ini juga disebut sebagai pola berulang. Rumus pertumbuhan FP digunakan untuk menemukan kumpulan item yang sering menangani data yang sangat berhubungan tetapi tidak dalam pembuatan kadidat.\n",
    "\n",
    "Selain memiliki banyak keuntungan, association rule juga memiliki beberapa kekurangan. Menurut Premathilake Piyumi, algoritma association rule memiliki aturan yang membosankan, memiliki sejumlah besar aturan yang ditemukan, dan kinerja algoritma yang rendah. Selain itu algoritma yang digunakan juga mengandung terlalu banyak parameter untuk seorang yang tidak ahli dalam data mining. Namun meskipun begitu, association rules memiliki peran yang penting dalam data mining. Dengan menggunakan association rules kita menjadi dapat mengetahui banyak masalah menarik yang digunakan untuk perluasan suatu teknik yang terorganisir dengan baik dan efektif. Association rules membutuhkan lebih banyak penyelidikan untuk membantu mendapatkan tujuan yang lebih jelas. Pengaplikasian association rules ini sangat besar seperti pada logistik, pemasaran, dan lain sebagainya (Devi Renuka) \n",
    "\n",
    "Cara terbaik untuk memahami apa itu association rule mining adalah dengan memahami toolsnya dan bagaimana cara kerjanya. Association rule mining dikenal sebagai aturan yang menggunakan beragam model dan alat untuk menganalisis pola dalam suatu kumpulan data. Association rule dalam data mining memiliki beberapa tools yang luar biasa. Tools yang dapat digunakan untuk bekerja menggunakan association rule mining adalah WEKA – Waikato Environment for Knowledge Analysis, RapidMiner, dan Orange (Rai Abhinav, 2022). Selain ketiga tools tersebut, kita juga dapat menggunakan association rules mining dengan menggunakan python. Algoritma yang terkenal dalam menggunakan association rules dalam python adalah algoritma apriori. Berikut merupakan tahap-tahap algoritma apriori dalam association rule mining pada python (Gupta Kunal). "
   ]
  },
  {
   "cell_type": "code",
   "execution_count": 1,
   "id": "52be667e",
   "metadata": {},
   "outputs": [
    {
     "name": "stdout",
     "output_type": "stream",
     "text": [
      "Requirement already satisfied: apyori in c:\\users\\billy anthony\\anaconda3\\lib\\site-packages (1.1.2)\n",
      "Note: you may need to restart the kernel to use updated packages.\n"
     ]
    }
   ],
   "source": [
    "pip install apyori"
   ]
  },
  {
   "cell_type": "code",
   "execution_count": 2,
   "id": "83a433ac",
   "metadata": {},
   "outputs": [],
   "source": [
    "#import hal-hal yang diperlukan\n",
    "import matplotlib.pyplot as plt\n",
    "import pandas as pd\n",
    "import numpy as np\n",
    "from apyori import apriori"
   ]
  },
  {
   "cell_type": "code",
   "execution_count": 3,
   "id": "a40c4a12",
   "metadata": {},
   "outputs": [
    {
     "data": {
      "text/html": [
       "<div>\n",
       "<style scoped>\n",
       "    .dataframe tbody tr th:only-of-type {\n",
       "        vertical-align: middle;\n",
       "    }\n",
       "\n",
       "    .dataframe tbody tr th {\n",
       "        vertical-align: top;\n",
       "    }\n",
       "\n",
       "    .dataframe thead th {\n",
       "        text-align: right;\n",
       "    }\n",
       "</style>\n",
       "<table border=\"1\" class=\"dataframe\">\n",
       "  <thead>\n",
       "    <tr style=\"text-align: right;\">\n",
       "      <th></th>\n",
       "      <th>0</th>\n",
       "      <th>1</th>\n",
       "      <th>2</th>\n",
       "      <th>3</th>\n",
       "      <th>4</th>\n",
       "      <th>5</th>\n",
       "      <th>6</th>\n",
       "      <th>7</th>\n",
       "      <th>8</th>\n",
       "    </tr>\n",
       "  </thead>\n",
       "  <tbody>\n",
       "    <tr>\n",
       "      <th>0</th>\n",
       "      <td>toothpaste</td>\n",
       "      <td>brush</td>\n",
       "      <td>milk</td>\n",
       "      <td>cereals</td>\n",
       "      <td>honey</td>\n",
       "      <td>bread</td>\n",
       "      <td>butter</td>\n",
       "      <td>cheese</td>\n",
       "      <td>yogurt</td>\n",
       "    </tr>\n",
       "    <tr>\n",
       "      <th>1</th>\n",
       "      <td>milk</td>\n",
       "      <td>cereals</td>\n",
       "      <td>honey</td>\n",
       "      <td>bread</td>\n",
       "      <td>cheese</td>\n",
       "      <td>razor</td>\n",
       "      <td>gel</td>\n",
       "      <td>shampoo</td>\n",
       "      <td>NaN</td>\n",
       "    </tr>\n",
       "    <tr>\n",
       "      <th>2</th>\n",
       "      <td>milk</td>\n",
       "      <td>cereals</td>\n",
       "      <td>honey</td>\n",
       "      <td>cheese</td>\n",
       "      <td>soap</td>\n",
       "      <td>shampoo</td>\n",
       "      <td>NaN</td>\n",
       "      <td>NaN</td>\n",
       "      <td>NaN</td>\n",
       "    </tr>\n",
       "    <tr>\n",
       "      <th>3</th>\n",
       "      <td>honey</td>\n",
       "      <td>bread</td>\n",
       "      <td>butter</td>\n",
       "      <td>cheese</td>\n",
       "      <td>mouthwash</td>\n",
       "      <td>toothpaste</td>\n",
       "      <td>NaN</td>\n",
       "      <td>NaN</td>\n",
       "      <td>NaN</td>\n",
       "    </tr>\n",
       "    <tr>\n",
       "      <th>4</th>\n",
       "      <td>cereals</td>\n",
       "      <td>honey</td>\n",
       "      <td>bread</td>\n",
       "      <td>butter</td>\n",
       "      <td>gel</td>\n",
       "      <td>soap</td>\n",
       "      <td>NaN</td>\n",
       "      <td>NaN</td>\n",
       "      <td>NaN</td>\n",
       "    </tr>\n",
       "  </tbody>\n",
       "</table>\n",
       "</div>"
      ],
      "text/plain": [
       "            0        1       2        3          4           5       6  \\\n",
       "0  toothpaste    brush    milk  cereals      honey       bread  butter   \n",
       "1        milk  cereals   honey    bread     cheese       razor     gel   \n",
       "2        milk  cereals   honey   cheese       soap     shampoo     NaN   \n",
       "3       honey    bread  butter   cheese  mouthwash  toothpaste     NaN   \n",
       "4     cereals    honey   bread   butter        gel        soap     NaN   \n",
       "\n",
       "         7       8  \n",
       "0   cheese  yogurt  \n",
       "1  shampoo     NaN  \n",
       "2      NaN     NaN  \n",
       "3      NaN     NaN  \n",
       "4      NaN     NaN  "
      ]
     },
     "execution_count": 3,
     "metadata": {},
     "output_type": "execute_result"
    }
   ],
   "source": [
    "#load Dataset\n",
    "data = pd.read_csv(\"https://raw.githubusercontent.com/BillyAnthonyB/contohdataset/main/order_data.csv\",delimiter=\" \",header=None)\n",
    "data.head()"
   ]
  },
  {
   "cell_type": "code",
   "execution_count": 4,
   "id": "2e81146f",
   "metadata": {},
   "outputs": [],
   "source": [
    "#Menghitung langkah-langkah algoritma apriori. Agar dapat menggunakan algoritma apriori maka kita harus melakukan convert terhadap semua dataset ke dalam single list dan setiap baris akan menjadi list dalam list tersebut \n",
    "data_list = []\n",
    "for row in range(0, 20):\n",
    "    data_list.append([str(data.values[row,column]) for column in range(0, 9)])\n",
    "\n",
    "algo = apriori(data_list, min_support=0.25, min_confidence=0.2, min_lift=2, min_length=2)\n",
    "results = list(algo)"
   ]
  },
  {
   "cell_type": "code",
   "execution_count": 5,
   "id": "2af6e514",
   "metadata": {},
   "outputs": [
    {
     "name": "stdout",
     "output_type": "stream",
     "text": [
      "Required Association No. 1 is: RelationRecord(items=frozenset({'toothpaste', 'brush'}), support=0.25, ordered_statistics=[OrderedStatistic(items_base=frozenset({'brush'}), items_add=frozenset({'toothpaste'}), confidence=1.0, lift=2.5), OrderedStatistic(items_base=frozenset({'toothpaste'}), items_add=frozenset({'brush'}), confidence=0.625, lift=2.5)])\n",
      "-------------------------\n",
      "Required Association No. 2 is: RelationRecord(items=frozenset({'toothpaste', 'mouthwash'}), support=0.3, ordered_statistics=[OrderedStatistic(items_base=frozenset({'mouthwash'}), items_add=frozenset({'toothpaste'}), confidence=0.8571428571428572, lift=2.142857142857143), OrderedStatistic(items_base=frozenset({'toothpaste'}), items_add=frozenset({'mouthwash'}), confidence=0.7499999999999999, lift=2.142857142857143)])\n",
      "-------------------------\n",
      "Required Association No. 3 is: RelationRecord(items=frozenset({'butter', 'honey', 'bread'}), support=0.25, ordered_statistics=[OrderedStatistic(items_base=frozenset({'butter'}), items_add=frozenset({'honey', 'bread'}), confidence=0.625, lift=2.0833333333333335), OrderedStatistic(items_base=frozenset({'honey', 'bread'}), items_add=frozenset({'butter'}), confidence=0.8333333333333334, lift=2.0833333333333335)])\n",
      "-------------------------\n"
     ]
    }
   ],
   "source": [
    "#print 3 rules yang didapatkan\n",
    "for i in range(0,3):\n",
    "    print(f\"Required Association No. {i+1} is: {results[i]}\")\n",
    "    print('-'*25)"
   ]
  },
  {
   "cell_type": "markdown",
   "id": "e4da1d25",
   "metadata": {},
   "source": [
    "### DAFTAR PUSTAKA"
   ]
  },
  {
   "cell_type": "raw",
   "id": "65577234",
   "metadata": {},
   "source": [
    "Lutkevich, Ben. (2020, September). Association Rules. Diakses pada November 12, 2022, dari https://www.techtarget.com/searchbusinessanalytics/definition/association-rules-in-data-mining\n",
    "\n",
    "Malik, Usman. (2022, Juli 21). Association Rule Mining via Apriori Algorithm in Python. Diakses pada November 12, 2022, dari https://stackabuse.com/association-rule-mining-via-apriori-algorithm-in-python/\n",
    "\n",
    "Java Point. Association Rule Learning. Diakses pada November 12, 2022, dari https://www.javatpoint.com/association-rule-learning\n",
    "\n",
    "GeeksForGeeks. (2022, Juni 22). Types of Association Rules in Data Mining. Diakses pada November 12, 2022, dari https://www.geeksforgeeks.org/types-of-association-rules-in-data-mining/\n",
    "\n",
    "Technopedia. Association Rule Mining. Diakses pada November 12, 2022, dari https://www.techopedia.com/definition/30306/association-rule-mining\n",
    "\n",
    "Jena, Manisha. (2022, Mei 27). Association Rule Mining Simplified 101. Diakses pada November 12, 2022, dari https://hevodata.com/learn/association-rule-mining/\n",
    "\n",
    "Premathilake, Piyumi. (2022, Juli 27). What is Association Rule Mining?. Diakses pada November 12, 2022, dari https://medium.com/quick-code/what-is-association-rule-mining-f77e67a36377\n",
    "\n",
    "Devi, Renuka. Applications of Association Rule Mining in Different Database. Diakses pada November 12, 2022, dari \n",
    "https://www.rroij.com/open-access/applications-of-association-rule-mining-in-different-databases.php?aid=37718\n",
    "\n",
    "Rai, Abhinav. (2022, September 29). An Overview of Association Rule Mining & its Applications. Diakses pada November 12, 2022, dari https://www.upgrad.com/blog/association-rule-mining-an-overview-and-its-applications/\n",
    "\n",
    "Gupta, Kunal. Association Rule Mining in Python. Diakses pada November 12, 2022, dari https://www.codespeedy.com/association-rule-mining-in-python/"
   ]
  }
 ],
 "metadata": {
  "kernelspec": {
   "display_name": "Python 3 (ipykernel)",
   "language": "python",
   "name": "python3"
  },
  "language_info": {
   "codemirror_mode": {
    "name": "ipython",
    "version": 3
   },
   "file_extension": ".py",
   "mimetype": "text/x-python",
   "name": "python",
   "nbconvert_exporter": "python",
   "pygments_lexer": "ipython3",
   "version": "3.9.7"
  }
 },
 "nbformat": 4,
 "nbformat_minor": 5
}
